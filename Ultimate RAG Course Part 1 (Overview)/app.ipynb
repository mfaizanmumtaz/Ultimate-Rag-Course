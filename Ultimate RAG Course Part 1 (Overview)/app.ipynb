{
 "cells": [
  {
   "cell_type": "code",
   "execution_count": null,
   "metadata": {},
   "outputs": [],
   "source": [
    "from langchain_community.vectorstores import Chroma\n",
    "from langchain.schema.output_parser import StrOutputParser\n",
    "from langchain_google_genai import ChatGoogleGenerativeAI\n",
    "from langchain_cohere import CohereEmbeddings\n",
    "from langchain.text_splitter import RecursiveCharacterTextSplitter\n",
    "from langchain.prompts import ChatPromptTemplate\n",
    "import assemblyai as aai\n",
    "from langchain_core.runnables import RunnablePassthrough\n",
    "import os\n",
    "from dotenv import load_dotenv\n",
    "load_dotenv()"
   ]
  },
  {
   "cell_type": "code",
   "execution_count": null,
   "metadata": {},
   "outputs": [],
   "source": [
    "# url = \"https://www.youtube.com/watch?v=I2ZK3ngNvvI&ab_channel=LexClips\"\n",
    "\n",
    "# config = aai.TranscriptionConfig(\n",
    "#     speaker_labels=True)\n",
    "\n",
    "# audio_file_path = \"audio.mp3\"\n",
    "# transcriber = aai.Transcriber()\n",
    "\n",
    "# transcript = transcriber.transcribe(audio_file_path, config).utterances \n",
    "# transcript =  \"\".join([f\"Speaker {utterance.speaker}: {utterance.text}\" for utterance in transcript])"
   ]
  },
  {
   "cell_type": "code",
   "execution_count": null,
   "metadata": {},
   "outputs": [],
   "source": [
    "# with open(\"transcript.txt\",'w') as file:\n",
    "#     file.write(transcript)"
   ]
  },
  {
   "cell_type": "code",
   "execution_count": null,
   "metadata": {},
   "outputs": [],
   "source": [
    "with open(\"transcript.txt\",'r') as file:\n",
    "    transcript = file.read()"
   ]
  },
  {
   "cell_type": "code",
   "execution_count": null,
   "metadata": {},
   "outputs": [],
   "source": [
    "text_splitter = RecursiveCharacterTextSplitter(\n",
    "    # Set a really small chunk size, just to show.\n",
    "    chunk_size=400,\n",
    "    chunk_overlap=100)"
   ]
  },
  {
   "cell_type": "code",
   "execution_count": null,
   "metadata": {},
   "outputs": [],
   "source": [
    "splits = text_splitter.create_documents([transcript])\n",
    "print(len(splits))"
   ]
  },
  {
   "cell_type": "code",
   "execution_count": null,
   "metadata": {},
   "outputs": [],
   "source": [
    "print(splits[0].page_content)"
   ]
  },
  {
   "cell_type": "code",
   "execution_count": null,
   "metadata": {},
   "outputs": [],
   "source": [
    "embeddings = CohereEmbeddings(model=\"embed-english-light-v3.0\",cohere_api_key=os.getenv(\"cohere_api_key\"))\n",
    "\n",
    "vectorstore = Chroma.from_documents(documents=splits, \n",
    "                                    embedding=embeddings)"
   ]
  },
  {
   "cell_type": "code",
   "execution_count": null,
   "metadata": {},
   "outputs": [],
   "source": [
    "retriever = vectorstore.as_retriever(search_kwargs={\"k\":5})"
   ]
  },
  {
   "cell_type": "code",
   "execution_count": null,
   "metadata": {},
   "outputs": [],
   "source": [
    "rag_prompt = \"\"\"You are a helpful assistant who answers the users' queries from the given YouTube video transcript parts. Answer the question based only on the following YouTube video transcript part:\n",
    "\n",
    "{context}\n",
    "\n",
    "Question: {question}\"\"\"\n",
    "\n",
    "llm = ChatGoogleGenerativeAI(model=\"gemini-1.5-flash\",google_api_key=os.getenv(\"google_api_key\"))\n",
    "\n",
    "prompt = ChatPromptTemplate.from_template(rag_prompt)\n",
    "\n",
    "rag_chain = (\n",
    "    {\"context\": retriever,\"question\": RunnablePassthrough()}\n",
    "    | prompt\n",
    "    | llm\n",
    "    | StrOutputParser()\n",
    ")\n",
    "\n",
    "# Question\n",
    "res = rag_chain.invoke(\"How do I become an expert at some arbitrary skill?\")\n",
    "print(res)"
   ]
  },
  {
   "cell_type": "code",
   "execution_count": null,
   "metadata": {},
   "outputs": [],
   "source": [
    "retriever.get_relevant_documents(\"How do I become an expert at some arbitrary skill?\")"
   ]
  },
  {
   "cell_type": "code",
   "execution_count": null,
   "metadata": {},
   "outputs": [],
   "source": [
    "res = rag_chain.invoke(\"what they guest speaker said about backpropagation?\")\n",
    "print(res)"
   ]
  },
  {
   "cell_type": "code",
   "execution_count": null,
   "metadata": {},
   "outputs": [],
   "source": [
    "res = rag_chain.invoke(\"On which thing beginners should focued on?\")\n",
    "print(res)"
   ]
  },
  {
   "cell_type": "code",
   "execution_count": null,
   "metadata": {},
   "outputs": [],
   "source": [
    "context = \"\"\"Document(page_content=\"10,000 hours, you can literally pick an arbitrary thing. And I think if you spend 10,000 hours of deliberate effort and work, you actually will become an expert at it. And so I think it's kind of like a nice thought. And so basically I would focus more on like are you spending 10,000 hours? That's what I focus on.Speaker A: So, and then thinking about what kind of mechanisms maximize your\"),\n",
    " Document(page_content=\"Speaker A: You're one of the greatest teachers of machine learning AI ever, from CS 231 N to today. What advice would you give to beginners interested in getting into machine learning?Speaker B: Beginners are often focused on what to do and I think the focus should be more like how much you do. So I am kind of like believer on a high level in this 10,000 hours kind of concept where you just kind\"),\n",
    " Document(page_content=\"where you put it. And you'll iterate and you'll improve and you'll waste some time. I don't know if there's a better way you need to put in 10,000 hours, but I think it's actually really nice because I feel like there's some sense of determinism about being an expert at a thing. If you spend 10,000 hours, you can literally pick an arbitrary thing. And I think if you spend 10,000 hours of\"),\n",
    " Document(page_content=\"1 hour of content.Speaker A: To get 1 hour. It's interesting. I mean, is it difficult to go back to the basics? Do you draw a lot of wisdom from going back to the basics?Speaker B: Yeah, going back to backpropagation, loss functions, where they come from. And one thing I like about teaching a lot, honestly, is it definitely strengthens your understanding. So it's not a purely altruistic activity.\"),\n",
    " Document(page_content=\"on a bunch of lectures just now. I was reminded back to my days of 331 and just how much work it is to create some of these materials and make them good. The amount of iteration and thought, and you go down blind alleys and just how much you change it. So creating something good in terms of educational value is really hard, and it's not fun.Speaker A: It's difficult. So people should definitely\")]\"\"\"\n",
    "\n",
    "question = 'How do I become an expert at some arbitrary skill?'\n",
    "\n",
    "rag_prompt = f\"\"\"You are a helpful assistant who answers the users' queries from the given YouTube video transcript parts. Answer the question based only on the following YouTube video transcript part:\n",
    "\n",
    "{context}\n",
    "\n",
    "Question: {question}\"\"\"\n",
    "\n",
    "print(rag_prompt)"
   ]
  }
 ],
 "metadata": {
  "kernelspec": {
   "display_name": "myenv",
   "language": "python",
   "name": "python3"
  },
  "language_info": {
   "codemirror_mode": {
    "name": "ipython",
    "version": 3
   },
   "file_extension": ".py",
   "mimetype": "text/x-python",
   "name": "python",
   "nbconvert_exporter": "python",
   "pygments_lexer": "ipython3",
   "version": "3.12.3"
  }
 },
 "nbformat": 4,
 "nbformat_minor": 2
}
